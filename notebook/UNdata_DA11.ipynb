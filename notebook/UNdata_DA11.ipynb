{
 "cells": [
  {
   "cell_type": "code",
   "execution_count": 36,
   "id": "5927ddc3-03ce-4beb-9f74-659cdfbe9333",
   "metadata": {},
   "outputs": [],
   "source": [
    "import pandas as pd\n",
    "import numpy as np\n",
    "import matplotlib.pyplot as plt\n",
    "import seaborn as sns"
   ]
  },
  {
   "cell_type": "markdown",
   "id": "5f215e9c-bb20-4b4c-89d9-e49ba6057abe",
   "metadata": {},
   "source": [
    "#### Above, find required imports per formatting best practices; imports address the requirements of Q3 which is noted below.\n",
    "##### Exercise questions 1 - 3 relate to ex-Jupyter functions required for setup and are noted below for reference:\n",
    "Q1. Create a 'data' folder in your local project repository. </br> \n",
    "Q2. Download these two CSV files and place them in the data folder: </br>  \n",
    "&ensp; http://data.un.org/Data.aspx?d=WDI&f=Indicator_Code%3aNY.GDP.PCAP.PP.KD </br>  \n",
    "&emsp; - rename the file to `gdp_percapita.csv` </br>  \n",
    "&ensp; Internet http://data.un.org/Data.aspx?d=ITU&f=ind1Code%3aI99H </br>  \n",
    "&emsp; - rename the file to `internet_use.csv` </br>  \n",
    "&ensp; Create a `notebooks` folder and launch a Jupyter Notebook in this folder.</br>  \n",
    "Q3. Import the required packages with their customary aliases as follows: </br>  \n",
    "    `import pandas as pd` </br>   \n",
    "    `import numpy as np`  </br>  \n",
    "    `import matplotlib.pyplot as plt`  </br>  \n",
    "    `import seaborn as sns`"
   ]
  },
  {
   "cell_type": "markdown",
   "id": "e6580df3-df90-4ff1-a476-6e03b4c9c43c",
   "metadata": {},
   "source": [
    "#### Q4. Using the pandas read_csv() method, read the GDP dataset into your notebook as a DataFrame called gdp_df. Take a look at the first few and last few rows to familiarize yourself with what is contained in this dataset."
   ]
  },
  {
   "cell_type": "code",
   "execution_count": 37,
   "id": "2b823a10-3b51-4d17-b831-2fca40911402",
   "metadata": {},
   "outputs": [],
   "source": [
    "#dataframe creation\n",
    "gdp_df = pd.read_csv('../data/gdp_percapita.csv')"
   ]
  },
  {
   "cell_type": "code",
   "execution_count": 38,
   "id": "5846a41b-2849-4f6b-ab12-619e376efab2",
   "metadata": {},
   "outputs": [
    {
     "name": "stdout",
     "output_type": "stream",
     "text": [
      "<bound method DataFrame.info of      Country or Area  Year        Value  Value Footnotes\n",
      "0        Afghanistan  2021  1517.016266              NaN\n",
      "1        Afghanistan  2020  1968.341002              NaN\n",
      "2        Afghanistan  2019  2079.921861              NaN\n",
      "3        Afghanistan  2018  2060.698973              NaN\n",
      "4        Afghanistan  2017  2096.093111              NaN\n",
      "...              ...   ...          ...              ...\n",
      "7657        Zimbabwe  1994  2670.106615              NaN\n",
      "7658        Zimbabwe  1993  2458.783255              NaN\n",
      "7659        Zimbabwe  1992  2468.278257              NaN\n",
      "7660        Zimbabwe  1991  2781.787843              NaN\n",
      "7661        Zimbabwe  1990  2704.757299              NaN\n",
      "\n",
      "[7662 rows x 4 columns]>\n",
      "Country or Area     object\n",
      "Year                 int64\n",
      "Value              float64\n",
      "Value Footnotes    float64\n",
      "dtype: object\n"
     ]
    }
   ],
   "source": [
    "#dataframe preview\n",
    "print(gdp_df.info)\n",
    "print(gdp_df.dtypes)"
   ]
  },
  {
   "cell_type": "markdown",
   "id": "63be5dda-f32a-4da2-a7aa-e0371e1947e1",
   "metadata": {},
   "source": [
    "#### Q5. How many rows and columns are in gdp_df? What are the data types of each column? \n",
    "#### A5.\n",
    "  &ensp; SHAPE: </br>\n",
    "    &emsp; 7662 rows; 4 columns\n",
    "</br>\n",
    "  &ensp; TYPE: </br>\n",
    "    &emsp; Country or Area: object </br>\n",
    "    &emsp; Year: int64 </br>\n",
    "    &emsp; Value: float64 </br>\n",
    "    &emsp; Value Footnotes: float64"
   ]
  },
  {
   "cell_type": "markdown",
   "id": "c2fc158d-8675-427d-af27-71669a3d1ed7",
   "metadata": {},
   "source": [
    "#### Q6. Drop the `Value Footnotes` column and rename the remaining three to 'Country', 'Year', and 'GDP_Per_Capita'."
   ]
  },
  {
   "cell_type": "code",
   "execution_count": 39,
   "id": "6b04eb33-658c-4b6b-87ff-9ba94ac7539b",
   "metadata": {},
   "outputs": [
    {
     "data": {
      "text/html": [
       "<div>\n",
       "<style scoped>\n",
       "    .dataframe tbody tr th:only-of-type {\n",
       "        vertical-align: middle;\n",
       "    }\n",
       "\n",
       "    .dataframe tbody tr th {\n",
       "        vertical-align: top;\n",
       "    }\n",
       "\n",
       "    .dataframe thead th {\n",
       "        text-align: right;\n",
       "    }\n",
       "</style>\n",
       "<table border=\"1\" class=\"dataframe\">\n",
       "  <thead>\n",
       "    <tr style=\"text-align: right;\">\n",
       "      <th></th>\n",
       "      <th>Country</th>\n",
       "      <th>Year</th>\n",
       "      <th>GDP_Per_Capita</th>\n",
       "    </tr>\n",
       "  </thead>\n",
       "  <tbody>\n",
       "    <tr>\n",
       "      <th>0</th>\n",
       "      <td>Afghanistan</td>\n",
       "      <td>2021</td>\n",
       "      <td>1517.016266</td>\n",
       "    </tr>\n",
       "    <tr>\n",
       "      <th>1</th>\n",
       "      <td>Afghanistan</td>\n",
       "      <td>2020</td>\n",
       "      <td>1968.341002</td>\n",
       "    </tr>\n",
       "    <tr>\n",
       "      <th>2</th>\n",
       "      <td>Afghanistan</td>\n",
       "      <td>2019</td>\n",
       "      <td>2079.921861</td>\n",
       "    </tr>\n",
       "    <tr>\n",
       "      <th>3</th>\n",
       "      <td>Afghanistan</td>\n",
       "      <td>2018</td>\n",
       "      <td>2060.698973</td>\n",
       "    </tr>\n",
       "    <tr>\n",
       "      <th>4</th>\n",
       "      <td>Afghanistan</td>\n",
       "      <td>2017</td>\n",
       "      <td>2096.093111</td>\n",
       "    </tr>\n",
       "    <tr>\n",
       "      <th>...</th>\n",
       "      <td>...</td>\n",
       "      <td>...</td>\n",
       "      <td>...</td>\n",
       "    </tr>\n",
       "    <tr>\n",
       "      <th>7657</th>\n",
       "      <td>Zimbabwe</td>\n",
       "      <td>1994</td>\n",
       "      <td>2670.106615</td>\n",
       "    </tr>\n",
       "    <tr>\n",
       "      <th>7658</th>\n",
       "      <td>Zimbabwe</td>\n",
       "      <td>1993</td>\n",
       "      <td>2458.783255</td>\n",
       "    </tr>\n",
       "    <tr>\n",
       "      <th>7659</th>\n",
       "      <td>Zimbabwe</td>\n",
       "      <td>1992</td>\n",
       "      <td>2468.278257</td>\n",
       "    </tr>\n",
       "    <tr>\n",
       "      <th>7660</th>\n",
       "      <td>Zimbabwe</td>\n",
       "      <td>1991</td>\n",
       "      <td>2781.787843</td>\n",
       "    </tr>\n",
       "    <tr>\n",
       "      <th>7661</th>\n",
       "      <td>Zimbabwe</td>\n",
       "      <td>1990</td>\n",
       "      <td>2704.757299</td>\n",
       "    </tr>\n",
       "  </tbody>\n",
       "</table>\n",
       "<p>7662 rows × 3 columns</p>\n",
       "</div>"
      ],
      "text/plain": [
       "          Country  Year  GDP_Per_Capita\n",
       "0     Afghanistan  2021     1517.016266\n",
       "1     Afghanistan  2020     1968.341002\n",
       "2     Afghanistan  2019     2079.921861\n",
       "3     Afghanistan  2018     2060.698973\n",
       "4     Afghanistan  2017     2096.093111\n",
       "...           ...   ...             ...\n",
       "7657     Zimbabwe  1994     2670.106615\n",
       "7658     Zimbabwe  1993     2458.783255\n",
       "7659     Zimbabwe  1992     2468.278257\n",
       "7660     Zimbabwe  1991     2781.787843\n",
       "7661     Zimbabwe  1990     2704.757299\n",
       "\n",
       "[7662 rows x 3 columns]"
      ]
     },
     "execution_count": 39,
     "metadata": {},
     "output_type": "execute_result"
    }
   ],
   "source": [
    "#Drop Value Footnotes\n",
    "gdp_df = gdp_df.drop ('Value Footnotes', axis=1)\n",
    "#rename remaining columns\n",
    "gdp_df.columns = ['Country', 'Year', 'GDP_Per_Capita']\n",
    "gdp_df"
   ]
  },
  {
   "cell_type": "markdown",
   "id": "988b9071-9271-47d8-a74b-85f9287d89bf",
   "metadata": {},
   "source": [
    "#### Q7. How many countries have data for all years? Which countries are missing many (at least one) years of data? Look at the number of observations per year. What do you notice?"
   ]
  },
  {
   "cell_type": "code",
   "execution_count": 51,
   "id": "23b3ef73-9993-4411-bd2e-e7ec1ebbea95",
   "metadata": {},
   "outputs": [
    {
     "ename": "SyntaxError",
     "evalue": "incomplete input (1898912823.py, line 6)",
     "output_type": "error",
     "traceback": [
      "\u001b[1;36m  Cell \u001b[1;32mIn[51], line 6\u001b[1;36m\u001b[0m\n\u001b[1;33m    #do a count - any countries that don't have 33 distinct years would have missing years\u001b[0m\n\u001b[1;37m                                                                                          ^\u001b[0m\n\u001b[1;31mSyntaxError\u001b[0m\u001b[1;31m:\u001b[0m incomplete input\n"
     ]
    }
   ],
   "source": [
    "#determine min year\n",
    "print('Min Year: ' + str(gdp_df['Year'].min()))\n",
    "#determine max year\n",
    "print('Max Year: ' + str(gdp_df['Year'].max()))\n",
    "print('Number of years in dataset: ' + str((gdp_df['Year'].max - str(gdp_df['Year'].min)))\n",
    "#do a count - any countries that don't have 33 distinct years would have missing years"
   ]
  },
  {
   "cell_type": "code",
   "execution_count": null,
   "id": "6e7b6fa6-7058-42b4-9345-9d7b6b81fedd",
   "metadata": {},
   "outputs": [],
   "source": []
  },
  {
   "cell_type": "code",
   "execution_count": null,
   "id": "e609d9d4-49b0-4e64-a733-eb0e60353120",
   "metadata": {},
   "outputs": [],
   "source": []
  }
 ],
 "metadata": {
  "kernelspec": {
   "display_name": "Python 3 (ipykernel)",
   "language": "python",
   "name": "python3"
  },
  "language_info": {
   "codemirror_mode": {
    "name": "ipython",
    "version": 3
   },
   "file_extension": ".py",
   "mimetype": "text/x-python",
   "name": "python",
   "nbconvert_exporter": "python",
   "pygments_lexer": "ipython3",
   "version": "3.11.7"
  }
 },
 "nbformat": 4,
 "nbformat_minor": 5
}
