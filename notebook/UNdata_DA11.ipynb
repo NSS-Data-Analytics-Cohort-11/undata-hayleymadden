{
 "cells": [
  {
   "cell_type": "code",
   "execution_count": 1,
   "id": "5927ddc3-03ce-4beb-9f74-659cdfbe9333",
   "metadata": {},
   "outputs": [],
   "source": [
    "import pandas as pd\n",
    "import numpy as np\n",
    "import matplotlib.pyplot as plt\n",
    "import seaborn as sns"
   ]
  },
  {
   "cell_type": "markdown",
   "id": "5f215e9c-bb20-4b4c-89d9-e49ba6057abe",
   "metadata": {
    "jp-MarkdownHeadingCollapsed": true
   },
   "source": [
    "#### Above, find required imports per formatting best practices; imports address the requirements of Q3 which is noted below.\n",
    "##### Exercise questions 1 - 3 relate to ex-Jupyter functions required for setup and are noted below for reference:\n",
    "Q1. Create a 'data' folder in your local project repository. </br> \n",
    "Q2. Download these two CSV files and place them in the data folder: </br>  \n",
    "&ensp; http://data.un.org/Data.aspx?d=WDI&f=Indicator_Code%3aNY.GDP.PCAP.PP.KD </br>  \n",
    "&emsp; - rename the file to `gdp_percapita.csv` </br>  \n",
    "&ensp; Internet http://data.un.org/Data.aspx?d=ITU&f=ind1Code%3aI99H </br>  \n",
    "&emsp; - rename the file to `internet_use.csv` </br>  \n",
    "&ensp; Create a `notebooks` folder and launch a Jupyter Notebook in this folder.</br>  \n",
    "Q3. Import the required packages with their customary aliases as follows: </br>  \n",
    "    `import pandas as pd` </br>   \n",
    "    `import numpy as np`  </br>  \n",
    "    `import matplotlib.pyplot as plt`  </br>  \n",
    "    `import seaborn as sns`"
   ]
  },
  {
   "cell_type": "markdown",
   "id": "e6580df3-df90-4ff1-a476-6e03b4c9c43c",
   "metadata": {},
   "source": [
    "#### Q4. Using the pandas read_csv() method, read the GDP dataset into your notebook as a DataFrame called gdp_df. Take a look at the first few and last few rows to familiarize yourself with what is contained in this dataset."
   ]
  },
  {
   "cell_type": "code",
   "execution_count": 2,
   "id": "2b823a10-3b51-4d17-b831-2fca40911402",
   "metadata": {},
   "outputs": [],
   "source": [
    "#dataframe creation\n",
    "gdp_df = pd.read_csv('../data/gdp_percapita.csv')"
   ]
  },
  {
   "cell_type": "code",
   "execution_count": 3,
   "id": "f786a60e-6e38-4096-a8a7-1a08aa0cab9b",
   "metadata": {
    "scrolled": true
   },
   "outputs": [
    {
     "name": "stdout",
     "output_type": "stream",
     "text": [
      "  Country or Area  Year        Value  Value Footnotes\n",
      "0     Afghanistan  2021  1517.016266              NaN\n",
      "1     Afghanistan  2020  1968.341002              NaN\n",
      "2     Afghanistan  2019  2079.921861              NaN\n",
      "3     Afghanistan  2018  2060.698973              NaN\n",
      "4     Afghanistan  2017  2096.093111              NaN\n",
      "5     Afghanistan  2016  2101.422187              NaN\n",
      "6     Afghanistan  2015  2108.714173              NaN\n",
      "7     Afghanistan  2014  2144.449634              NaN\n",
      "8     Afghanistan  2013  2165.340915              NaN\n",
      "9     Afghanistan  2012  2122.830759              NaN\n",
      "     Country or Area  Year        Value  Value Footnotes\n",
      "7652        Zimbabwe  1999  2866.032886              NaN\n",
      "7653        Zimbabwe  1998  2931.725144              NaN\n",
      "7654        Zimbabwe  1997  2896.147308              NaN\n",
      "7655        Zimbabwe  1996  2867.026043              NaN\n",
      "7656        Zimbabwe  1995  2641.378271              NaN\n",
      "7657        Zimbabwe  1994  2670.106615              NaN\n",
      "7658        Zimbabwe  1993  2458.783255              NaN\n",
      "7659        Zimbabwe  1992  2468.278257              NaN\n",
      "7660        Zimbabwe  1991  2781.787843              NaN\n",
      "7661        Zimbabwe  1990  2704.757299              NaN\n"
     ]
    }
   ],
   "source": [
    "#top and bottom row review\n",
    "print (gdp_df.head(10))\n",
    "print (gdp_df.tail(10))"
   ]
  },
  {
   "cell_type": "markdown",
   "id": "f4c2480f-40df-4662-bba7-08bbd516f757",
   "metadata": {},
   "source": [
    "#### Q5. How many rows and columns are in gdp_df? What are the data types of each column?"
   ]
  },
  {
   "cell_type": "code",
   "execution_count": 4,
   "id": "5846a41b-2849-4f6b-ab12-619e376efab2",
   "metadata": {},
   "outputs": [
    {
     "name": "stdout",
     "output_type": "stream",
     "text": [
      "<bound method DataFrame.info of      Country or Area  Year        Value  Value Footnotes\n",
      "0        Afghanistan  2021  1517.016266              NaN\n",
      "1        Afghanistan  2020  1968.341002              NaN\n",
      "2        Afghanistan  2019  2079.921861              NaN\n",
      "3        Afghanistan  2018  2060.698973              NaN\n",
      "4        Afghanistan  2017  2096.093111              NaN\n",
      "...              ...   ...          ...              ...\n",
      "7657        Zimbabwe  1994  2670.106615              NaN\n",
      "7658        Zimbabwe  1993  2458.783255              NaN\n",
      "7659        Zimbabwe  1992  2468.278257              NaN\n",
      "7660        Zimbabwe  1991  2781.787843              NaN\n",
      "7661        Zimbabwe  1990  2704.757299              NaN\n",
      "\n",
      "[7662 rows x 4 columns]>\n",
      "Country or Area     object\n",
      "Year                 int64\n",
      "Value              float64\n",
      "Value Footnotes    float64\n",
      "dtype: object\n"
     ]
    }
   ],
   "source": [
    "#dataframe preview\n",
    "print(gdp_df.info)\n",
    "print(gdp_df.dtypes)"
   ]
  },
  {
   "cell_type": "markdown",
   "id": "63be5dda-f32a-4da2-a7aa-e0371e1947e1",
   "metadata": {},
   "source": [
    "#### A5.\n",
    "  &ensp; SHAPE: </br>\n",
    "    &emsp; 7662 rows; 4 columns\n",
    "</br>\n",
    "  &ensp; TYPE: </br>\n",
    "    &emsp; Country or Area: object </br>\n",
    "    &emsp; Year: int64 </br>\n",
    "    &emsp; Value: float64 </br>\n",
    "    &emsp; Value Footnotes: float64"
   ]
  },
  {
   "cell_type": "markdown",
   "id": "c2fc158d-8675-427d-af27-71669a3d1ed7",
   "metadata": {},
   "source": [
    "#### Q6. Drop the `Value Footnotes` column and rename the remaining three to 'Country', 'Year', and 'GDP_Per_Capita'."
   ]
  },
  {
   "cell_type": "code",
   "execution_count": 5,
   "id": "6b04eb33-658c-4b6b-87ff-9ba94ac7539b",
   "metadata": {},
   "outputs": [
    {
     "data": {
      "text/html": [
       "<div>\n",
       "<style scoped>\n",
       "    .dataframe tbody tr th:only-of-type {\n",
       "        vertical-align: middle;\n",
       "    }\n",
       "\n",
       "    .dataframe tbody tr th {\n",
       "        vertical-align: top;\n",
       "    }\n",
       "\n",
       "    .dataframe thead th {\n",
       "        text-align: right;\n",
       "    }\n",
       "</style>\n",
       "<table border=\"1\" class=\"dataframe\">\n",
       "  <thead>\n",
       "    <tr style=\"text-align: right;\">\n",
       "      <th></th>\n",
       "      <th>Country</th>\n",
       "      <th>Year</th>\n",
       "      <th>GDP_Per_Capita</th>\n",
       "    </tr>\n",
       "  </thead>\n",
       "  <tbody>\n",
       "    <tr>\n",
       "      <th>0</th>\n",
       "      <td>Afghanistan</td>\n",
       "      <td>2021</td>\n",
       "      <td>1517.016266</td>\n",
       "    </tr>\n",
       "    <tr>\n",
       "      <th>1</th>\n",
       "      <td>Afghanistan</td>\n",
       "      <td>2020</td>\n",
       "      <td>1968.341002</td>\n",
       "    </tr>\n",
       "    <tr>\n",
       "      <th>2</th>\n",
       "      <td>Afghanistan</td>\n",
       "      <td>2019</td>\n",
       "      <td>2079.921861</td>\n",
       "    </tr>\n",
       "    <tr>\n",
       "      <th>3</th>\n",
       "      <td>Afghanistan</td>\n",
       "      <td>2018</td>\n",
       "      <td>2060.698973</td>\n",
       "    </tr>\n",
       "    <tr>\n",
       "      <th>4</th>\n",
       "      <td>Afghanistan</td>\n",
       "      <td>2017</td>\n",
       "      <td>2096.093111</td>\n",
       "    </tr>\n",
       "    <tr>\n",
       "      <th>...</th>\n",
       "      <td>...</td>\n",
       "      <td>...</td>\n",
       "      <td>...</td>\n",
       "    </tr>\n",
       "    <tr>\n",
       "      <th>7657</th>\n",
       "      <td>Zimbabwe</td>\n",
       "      <td>1994</td>\n",
       "      <td>2670.106615</td>\n",
       "    </tr>\n",
       "    <tr>\n",
       "      <th>7658</th>\n",
       "      <td>Zimbabwe</td>\n",
       "      <td>1993</td>\n",
       "      <td>2458.783255</td>\n",
       "    </tr>\n",
       "    <tr>\n",
       "      <th>7659</th>\n",
       "      <td>Zimbabwe</td>\n",
       "      <td>1992</td>\n",
       "      <td>2468.278257</td>\n",
       "    </tr>\n",
       "    <tr>\n",
       "      <th>7660</th>\n",
       "      <td>Zimbabwe</td>\n",
       "      <td>1991</td>\n",
       "      <td>2781.787843</td>\n",
       "    </tr>\n",
       "    <tr>\n",
       "      <th>7661</th>\n",
       "      <td>Zimbabwe</td>\n",
       "      <td>1990</td>\n",
       "      <td>2704.757299</td>\n",
       "    </tr>\n",
       "  </tbody>\n",
       "</table>\n",
       "<p>7662 rows × 3 columns</p>\n",
       "</div>"
      ],
      "text/plain": [
       "          Country  Year  GDP_Per_Capita\n",
       "0     Afghanistan  2021     1517.016266\n",
       "1     Afghanistan  2020     1968.341002\n",
       "2     Afghanistan  2019     2079.921861\n",
       "3     Afghanistan  2018     2060.698973\n",
       "4     Afghanistan  2017     2096.093111\n",
       "...           ...   ...             ...\n",
       "7657     Zimbabwe  1994     2670.106615\n",
       "7658     Zimbabwe  1993     2458.783255\n",
       "7659     Zimbabwe  1992     2468.278257\n",
       "7660     Zimbabwe  1991     2781.787843\n",
       "7661     Zimbabwe  1990     2704.757299\n",
       "\n",
       "[7662 rows x 3 columns]"
      ]
     },
     "execution_count": 5,
     "metadata": {},
     "output_type": "execute_result"
    }
   ],
   "source": [
    "#Drop Value Footnotes\n",
    "gdp_df = gdp_df.drop(columns=['Value Footnotes'])\n",
    "#rename remaining columns\n",
    "gdp_df = gdp_df.rename(columns = {'Country or Area': 'Country', 'Year':'Year', 'Value':'GDP_Per_Capita'})\n",
    "gdp_df"
   ]
  },
  {
   "cell_type": "markdown",
   "id": "988b9071-9271-47d8-a74b-85f9287d89bf",
   "metadata": {},
   "source": [
    "#### Q7. How many countries have data for all years? Which countries are missing many (at least one) years of data? Look at the number of observations per year. What do you notice?"
   ]
  },
  {
   "cell_type": "code",
   "execution_count": 7,
   "id": "96d1aefa-29ad-4f35-ba8b-5aaba83747a4",
   "metadata": {},
   "outputs": [
    {
     "name": "stdout",
     "output_type": "stream",
     "text": [
      "Min Year: 1990\n",
      "Max Year: 2022\n",
      "Number of years in dataset: 33\n",
      "Count of countries with data for all years: 202\n",
      "Countries missing data:\n",
      "                       Country  year_count\n",
      "53                    Djibouti          10\n",
      "197                    Somalia          10\n",
      "225   Turks and Caicos Islands          12\n",
      "192  Sint Maarten (Dutch part)          14\n",
      "112                     Kosovo          15\n",
      "36              Cayman Islands          16\n",
      "154                      Nauru          19\n",
      "0                  Afghanistan          20\n",
      "47                    CuraÃ§ao          22\n",
      "169                      Palau          22\n",
      "213    SÃ£o TomÃ© and Principe          22\n",
      "180                      Qatar          23\n",
      "166         Other small states          23\n",
      "219                Timor-Leste          23\n",
      "124                    Liberia          23\n",
      "125                      Libya          24\n",
      "185                 San Marino          25\n",
      "195               Small states          26\n",
      "149                 Montenegro          26\n",
      "135                   Maldives          28\n",
      "147                    Moldova          28\n",
      "103                     Israel          28\n",
      "97                     Iceland          28\n",
      "64                     Estonia          28\n",
      "46                     Croatia          28\n",
      "188                     Serbia          28\n",
      "194                   Slovenia          28\n",
      "126                  Lithuania          28\n",
      "120                     Latvia          28\n",
      "238         West Bank and Gaza          29\n",
      "24      Bosnia and Herzegovina          29\n",
      "32                    Cambodia          30\n",
      "113                     Kuwait          31\n",
      "193            Slovak Republic          31\n",
      "224               Turkmenistan          31\n",
      "122                    Lebanon          32\n",
      "221                      Tonga          32\n",
      "91                     Hungary          32\n",
      "10                       Aruba          32\n",
      "22                      Bhutan          32\n"
     ]
    }
   ],
   "source": [
    "#determine min year\n",
    "min_year = gdp_df['Year'].min()\n",
    "\n",
    "#determine max year\n",
    "max_year = gdp_df['Year'].max()\n",
    "\n",
    "#determine number of years in dataset\n",
    "count_years = gdp_df['Year'].nunique()\n",
    "\n",
    "#print header stats\n",
    "print('Min Year: ' + str(min_year))\n",
    "print('Max Year: ' + str(max_year))\n",
    "print('Number of years in dataset: ' + str(count_years))\n",
    "\n",
    "#find countries with years missing; year count by country\n",
    "country_list = gdp_df.groupby('Country')[\"Country\"].count().reset_index(name='year_count').sort_values(by='year_count')\n",
    "\n",
    "#How many countries have data for all years?\n",
    "count_countries_complete_data = len(country_list[country_list[\"year_count\"] == count_years])\n",
    "print(\"Count of countries with data for all years: \" + str(count_countries_complete_data))\n",
    "\n",
    "#Which countries are missing many (at least one) years of data?\n",
    "countries_missing_data = country_list[country_list[\"year_count\"] < count_years]\n",
    "print(\"Countries missing data:\") \n",
    "print(countries_missing_data)\n",
    "\n",
    "# format for A7\n",
    "# missing_data_list = countries_missing_data[\"Country\"].tolist()\n",
    "# print(missing_data_list)\n"
   ]
  },
  {
   "cell_type": "markdown",
   "id": "1a433b1c-a725-4442-b3d4-30979fa57e07",
   "metadata": {},
   "source": [
    "#### A7.\n",
    "\n",
    "How many countries have data for all years? </br>\n",
    "A: 202 countries have data for all years. </br>\n",
    "</br>\n",
    "Which countries are missing many (at least one) years of data? </br>\n",
    "A: 'Djibouti', 'Somalia', 'Turks and Caicos Islands', 'Sint Maarten (Dutch part)', 'Kosovo', 'Cayman Islands', 'Nauru', 'Afghanistan', 'CuraÃ§ao', 'Palau', 'SÃ£o TomÃ© and Principe', 'Qatar', 'Other small states', 'Timor-Leste', 'Liberia', 'Libya', 'San Marino', 'Small states', 'Montenegro', 'Maldives', 'Moldova', 'Israel', 'Iceland', 'Estonia', 'Croatia', 'Serbia', 'Slovenia', 'Lithuania', 'Latvia', 'West Bank and Gaza', 'Bosnia and Herzegovina', 'Cambodia', 'Kuwait', 'Slovak Republic', 'Turkmenistan', 'Lebanon', 'Tonga', 'Hungary', 'Aruba', 'Bhutan' </br>\n",
    "</br>\n",
    "What do you notice? </br>\n",
    "A: Some of these entries, such as 'Sint Maarten (Dutch part)', 'CuraÃ§ao', and 'Other small states' seem to be poor country designations subject to varied grouping, data entry errors, and formatting errors."
   ]
  },
  {
   "cell_type": "markdown",
   "id": "fabd292b-2803-4328-a179-cf8b586b810d",
   "metadata": {},
   "source": [
    "#### Q8. Create some plots to show the distribution of GDP per capita for the year 2020. \n",
    "<ul>\n",
    "<li> Go to the Python Graph Gallery (https://www.python-graph-gallery.com/) and look at the different types of plots under the Distribution section.</li> \n",
    "<li> Create a histogram, a density plot, a boxplot, and a violin plot. </li>\n",
    "<li> What do you notice when you look at these plots? </li>\n",
    "<li> How do the plots compare and what information can you get out of one type that you can't necessarily get out of the others?</li>\n",
    "</ul>"
   ]
  },
  {
   "cell_type": "code",
   "execution_count": null,
   "id": "2245eae7-f992-4b00-93b4-dff0600e7dc4",
   "metadata": {},
   "outputs": [],
   "source": []
  },
  {
   "cell_type": "markdown",
   "id": "90c648c0-8291-4b17-88a6-0849ed8e9d1e",
   "metadata": {
    "jp-MarkdownHeadingCollapsed": true
   },
   "source": [
    "#### Q9. What was the median GDP per capita value in 2020?"
   ]
  },
  {
   "cell_type": "markdown",
   "id": "bc3bf0b9-af40-4409-9636-e77fef385481",
   "metadata": {},
   "source": [
    "#### Q10. Create some visualizations to compare GDP per capita values for the years 1990, 2000, 2010, and 2020. Start by subsetting your data to just these 4 years into a new DataFrame named gdp_decades. Using this, create the following 4 plots:\n",
    "<ul>\n",
    "\t<li> A boxplot</li>\n",
    "\t<li> A barplot (check out the Barplot with Seaborn section: https://www.python-graph-gallery.com/barplot/#Seaborn)</li>\n",
    "\t<li> A scatterplot</li>\n",
    "\t<li> A scatterplot with a trend line overlaid (see this regplot example: https://www.python-graph-gallery.com/42-custom-linear-regression-fit-seaborn)</li>\n",
    " </ul>\n",
    "Comment on what you observe has happened to GDP values over time and the relative strengths and weaknesses of each type of plot."
   ]
  },
  {
   "cell_type": "code",
   "execution_count": null,
   "id": "58354d9f-2d58-45e5-baf9-f93983012670",
   "metadata": {},
   "outputs": [],
   "source": []
  },
  {
   "cell_type": "markdown",
   "id": "a1f33c19-9d84-4545-aad4-87787898fd19",
   "metadata": {},
   "source": [
    "#### Q11. Which country was the first to have a GDP per capita greater than $100,000?"
   ]
  },
  {
   "cell_type": "code",
   "execution_count": null,
   "id": "ef5d2e4d-ac53-4c0c-a54e-68d54bfeff86",
   "metadata": {},
   "outputs": [],
   "source": []
  },
  {
   "cell_type": "markdown",
   "id": "d9779bd4-7aae-48df-8f37-3b13613b96e3",
   "metadata": {},
   "source": [
    "#### Q12. Which country had the highest GDP per capita in 2020? Create a plot showing how this country's GDP per capita has changed over the timespan of the dataset."
   ]
  },
  {
   "cell_type": "code",
   "execution_count": null,
   "id": "4bc90afa-ae78-4000-a724-d2819de63219",
   "metadata": {},
   "outputs": [],
   "source": []
  },
  {
   "cell_type": "markdown",
   "id": "c1b725d8-973c-4f70-acb2-8f360cee50ec",
   "metadata": {},
   "source": [
    "#### Q13. Which country had the lowest GDP per capita in 2020? Create a plot showing how this country's GDP per capita has changed over the timespan of the dataset."
   ]
  },
  {
   "cell_type": "code",
   "execution_count": null,
   "id": "16cd7609-d411-4b21-a152-e910fffaa36a",
   "metadata": {},
   "outputs": [],
   "source": []
  },
  {
   "cell_type": "markdown",
   "id": "2162727b-f184-4983-b801-dbd1ada468bb",
   "metadata": {},
   "source": [
    "#### Q14.\n",
    "Read in the internet use dataset into a DataFrame named `internet_df`. You will likely get errors when doing this. Check the arguments for the read_csv function to find ones that can help correct the errors (https://pandas.pydata.org/docs/reference/api/pandas.read_csv.html) Once you are able to read it in, take per a look at the top and bottom few rows to make sure that it has been read in correctly. Also, check the datatypes of the columns.\r\n"
   ]
  },
  {
   "cell_type": "markdown",
   "id": "1e55c005-6ead-437d-975d-6a186c1cd092",
   "metadata": {},
   "source": [
    "#### Q15. Drop the `Value Footnotes` column and rename the remaining three to 'Country', 'Year', and 'Internet_Users_Pct'."
   ]
  },
  {
   "cell_type": "markdown",
   "id": "d9e7d788-6cbb-48a6-9da5-6dbccbde372b",
   "metadata": {},
   "source": [
    "#### Q16. Look at the number of observations in this dataset per year. What do you notice?"
   ]
  },
  {
   "cell_type": "markdown",
   "id": "fa209386-45c7-4b72-a07d-e02f7996faf6",
   "metadata": {},
   "source": [
    "#### Q17. What is the first year to have a non-zero internet users percentage value?"
   ]
  },
  {
   "cell_type": "markdown",
   "id": "772daa73-7747-4d67-9fd7-8804b1d69369",
   "metadata": {},
   "source": [
    "#### Q18. How does the distribution of internet users percent differ for 2000 and 2014?"
   ]
  },
  {
   "cell_type": "markdown",
   "id": "2c4edb7d-0146-4849-8ece-56751cb18593",
   "metadata": {},
   "source": [
    "#### Q19. For how many countries was the percentage of internet users below 5% in 2014?"
   ]
  },
  {
   "cell_type": "markdown",
   "id": "9138774f-f772-4048-8021-4243eb1b4a09",
   "metadata": {},
   "source": [
    "#### Q20. Merge the two DataFrames to one. Do this in a way that keeps **all rows** from each of the two DataFrames. Call the new DataFrame `gdp_and_internet_use`. Look at the first and last few rows to confirm that it merged correctly."
   ]
  },
  {
   "cell_type": "markdown",
   "id": "a54a29dd-45bd-4556-b775-7d05a6ffeb9b",
   "metadata": {},
   "source": [
    "#### Q21. Find the three countries with the highest internet users percentage in 2014. Use a seaborn FacetGrid (https://seaborn.pydata.org/generated/seaborn.FacetGrid.html) to compare how the GDP per capita has changed over time for these three countries. What do you notice?"
   ]
  },
  {
   "cell_type": "markdown",
   "id": "8cc45d7c-217d-400b-9d04-bb917fee6aa7",
   "metadata": {},
   "source": [
    "#### Q22. Subset `gdp_and_internet_use` to just the year 2014. Save this as a new dataframe named `gdp_and_internet_use_2014`."
   ]
  },
  {
   "cell_type": "markdown",
   "id": "61582e4d-1b97-47e3-a7f1-98f9c39f617f",
   "metadata": {},
   "source": [
    "#### Q23. Create a plot which compares Internet Users Percentage and GDP per Capita for the year 2014. What do you notice from this plot? If you see any unusual points, investigate them.\n"
   ]
  },
  {
   "cell_type": "markdown",
   "id": "aba99d50-316a-48a1-b52f-013e2701da80",
   "metadata": {},
   "source": [
    "#### Q24. **Stretch Question:** Use the `qcut` function from pandas (https://pandas.pydata.org/docs/reference/api/pandas.qcut.html) to divide countries in `gdp_per_capita_2014` into three groups based on their GDP per capita values. Label these groups as \"Low\", \"Medium\", and \"High\". Put these labels in a new column, named \"GDP_group\"."
   ]
  },
  {
   "cell_type": "markdown",
   "id": "82e4c21c-2282-456f-93f0-044897b1281e",
   "metadata": {},
   "source": [
    "#### Q25. **Stretch Question:** How does the median internet users percentage compare for the three gdp groups?"
   ]
  },
  {
   "cell_type": "code",
   "execution_count": null,
   "id": "b730fec5-c552-43b4-b152-5c4e511e9103",
   "metadata": {},
   "outputs": [],
   "source": []
  }
 ],
 "metadata": {
  "kernelspec": {
   "display_name": "Python 3 (ipykernel)",
   "language": "python",
   "name": "python3"
  },
  "language_info": {
   "codemirror_mode": {
    "name": "ipython",
    "version": 3
   },
   "file_extension": ".py",
   "mimetype": "text/x-python",
   "name": "python",
   "nbconvert_exporter": "python",
   "pygments_lexer": "ipython3",
   "version": "3.11.7"
  }
 },
 "nbformat": 4,
 "nbformat_minor": 5
}
